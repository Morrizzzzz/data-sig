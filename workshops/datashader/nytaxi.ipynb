{
 "cells": [
  {
   "cell_type": "markdown",
   "metadata": {},
   "source": [
    "Combi of\n",
    "* https://anaconda.org/jbednar/nyc_taxi-paramnb/notebook\n",
    "* http://datashader.org/topics/param_dashboard.html\n",
    "* https://github.com/ioam/jupytercon2017-holoviews-tutorial/blob/master/notebooks/01-workflow-introduction.ipynb\n",
    "\n",
    "Download ny taxi dataset\n",
    "```\n",
    "wget http://s3.amazonaws.com/datashader-data/nyc_taxi.zip\n",
    "unzip nyc_taxi.zip\n",
    "```    "
   ]
  },
  {
   "cell_type": "code",
   "execution_count": null,
   "metadata": {},
   "outputs": [],
   "source": [
    "import holoviews as hv, geoviews as gv, param, parambokeh, paramnb, dask.dataframe as dd\n",
    "\n",
    "from colorcet import cm\n",
    "from bokeh.models import WMTSTileSource\n",
    "from holoviews.operation.datashader import datashade\n",
    "from holoviews.streams import RangeXY\n",
    "\n",
    "hv.extension('bokeh')"
   ]
  },
  {
   "cell_type": "code",
   "execution_count": null,
   "metadata": {},
   "outputs": [],
   "source": [
    "from dask.distributed import Client, LocalCluster"
   ]
  },
  {
   "cell_type": "code",
   "execution_count": null,
   "metadata": {},
   "outputs": [],
   "source": [
    "client = Client(LocalCluster(ip='0.0.0.0', processes=False))\n",
    "client"
   ]
  },
  {
   "cell_type": "code",
   "execution_count": null,
   "metadata": {},
   "outputs": [],
   "source": [
    "%time df = dd.read_csv('nyc_taxi.csv',usecols= \\\n",
    "                       ['pickup_x', 'pickup_y', 'dropoff_x','dropoff_y', 'passenger_count','tpep_pickup_datetime', 'tpep_dropoff_datetime'])\n",
    "df['pickup_hour'] = dd.to_datetime(df['tpep_pickup_datetime']).dt.hour\n",
    "df['dropoff_hour'] = dd.to_datetime(df['tpep_dropoff_datetime']).dt.hour\n",
    "df = df.persist()"
   ]
  },
  {
   "cell_type": "code",
   "execution_count": null,
   "metadata": {},
   "outputs": [],
   "source": [
    "url='https://server.arcgisonline.com/ArcGIS/rest/services/World_Imagery/MapServer/tile/{Z}/{Y}/{X}.jpg'\n",
    "tiles = gv.WMTS(WMTSTileSource(url=url))\n",
    "options = dict(width=900,height=600,xaxis=None,yaxis=None,bgcolor='black',show_grid=False)\n",
    "map_tiles = tiles.opts(style=dict(alpha=0.75), plot=options)\n",
    "max_pass = int(df.passenger_count.max().compute()+1)"
   ]
  },
  {
   "cell_type": "code",
   "execution_count": null,
   "metadata": {},
   "outputs": [],
   "source": [
    "class NYCTaxiExplorer(hv.streams.Stream):\n",
    "    colormap   = param.ObjectSelector(default=cm[\"fire\"], objects=[cm[k] for k in cm.keys() if not '_' in k])\n",
    "    hour       = param.Integer(default=None, bounds=(0, 23), doc=\"All hours by default; drag to select one hour\")\n",
    "    passengers = param.Range(default=(0,max_pass), bounds=(0,max_pass))\n",
    "    location   = param.ObjectSelector(default='dropoff', objects=['dropoff', 'pickup'])\n",
    "\n",
    "    def make_view(self, x_range=None, y_range=None, **kwargs):\n",
    "        points = hv.Points(df, kdims=[self.location+'_x', self.location+'_y'], vdims=[self.location+'_hour'])\n",
    "        selection = {self.location+\"_hour\":self.hour if self.hour else (0,24), \"passenger_count\":self.passengers}\n",
    "        taxi_trips = datashade(points.select(**selection), x_sampling=1, y_sampling=1, cmap=self.colormap,\n",
    "                               dynamic=False, x_range=x_range, y_range=y_range, width=1000, height=600)\n",
    "        return taxi_trips.opts(plot=options)"
   ]
  },
  {
   "cell_type": "code",
   "execution_count": null,
   "metadata": {},
   "outputs": [],
   "source": [
    "explorer = NYCTaxiExplorer(name=\"NYC Taxi Trips\")\n",
    "paramnb.Widgets(explorer, callback=explorer.event)\n",
    "dmap = hv.DynamicMap(callback=explorer.make_view, streams=[explorer, RangeXY()])"
   ]
  },
  {
   "cell_type": "code",
   "execution_count": null,
   "metadata": {
    "scrolled": false
   },
   "outputs": [],
   "source": [
    "map_tiles * dmap"
   ]
  },
  {
   "cell_type": "code",
   "execution_count": null,
   "metadata": {},
   "outputs": [],
   "source": []
  }
 ],
 "metadata": {
  "kernelspec": {
   "display_name": "Python 3",
   "language": "python",
   "name": "python3"
  },
  "language_info": {
   "codemirror_mode": {
    "name": "ipython",
    "version": 3
   },
   "file_extension": ".py",
   "mimetype": "text/x-python",
   "name": "python",
   "nbconvert_exporter": "python",
   "pygments_lexer": "ipython3",
   "version": "3.6.6"
  }
 },
 "nbformat": 4,
 "nbformat_minor": 2
}
